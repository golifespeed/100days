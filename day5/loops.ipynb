{
 "cells": [
  {
   "cell_type": "code",
   "execution_count": 1,
   "metadata": {},
   "outputs": [
    {
     "name": "stdout",
     "output_type": "stream",
     "text": [
      "Apple\n",
      "Banana\n",
      "Cherry\n",
      "Orange\n",
      "Pear\n"
     ]
    }
   ],
   "source": [
    "fruits=['Apple','Banana','Cherry','Orange','Pear']\n",
    "for fruit in fruits:\n",
    "    print(fruit)\n",
    "    "
   ]
  },
  {
   "cell_type": "code",
   "execution_count": 31,
   "metadata": {},
   "outputs": [
    {
     "name": "stdout",
     "output_type": "stream",
     "text": [
      "1000\n"
     ]
    }
   ],
   "source": [
    "student_scores = [172, 73, 33, 88, 999, 55, 666, 77, 44, 22, 111, 1000, 98, 97, 96, 95, 94, 93, 92, 91]\n",
    "\n",
    "max_score = 0\n",
    "# total_scores = len(student_scores)\n",
    "# count = -1\n",
    "# for score in student_scores:\n",
    "#     count +=1\n",
    "#     if count < total_scores and max_score < student_scores[count]:\n",
    "#         max_score = student_scores[count]\n",
    "# print(max_score)\n",
    "\n",
    "for score in student_scores:\n",
    "    if score > max_score:\n",
    "        max_score = score\n",
    "print(max_score)\n"
   ]
  },
  {
   "cell_type": "code",
   "execution_count": 32,
   "metadata": {},
   "outputs": [
    {
     "name": "stdout",
     "output_type": "stream",
     "text": [
      "5050\n"
     ]
    }
   ],
   "source": [
    "final_no = 0\n",
    "for nos in range (1,101):\n",
    "    final_no += nos\n",
    "print(final_no)"
   ]
  },
  {
   "cell_type": "code",
   "execution_count": 37,
   "metadata": {},
   "outputs": [
    {
     "name": "stdout",
     "output_type": "stream",
     "text": [
      "1\n",
      "2\n",
      "Fizz\n",
      "4\n",
      "Buzz\n",
      "Fizz\n",
      "7\n",
      "8\n",
      "Fizz\n",
      "Buzz\n",
      "11\n",
      "Fizz\n",
      "13\n",
      "14\n",
      "FizzBuzz\n",
      "16\n",
      "17\n",
      "Fizz\n",
      "19\n",
      "Buzz\n",
      "Fizz\n",
      "22\n",
      "23\n",
      "Fizz\n",
      "Buzz\n",
      "26\n",
      "Fizz\n",
      "28\n",
      "29\n",
      "FizzBuzz\n",
      "31\n",
      "32\n",
      "Fizz\n",
      "34\n",
      "Buzz\n",
      "Fizz\n",
      "37\n",
      "38\n",
      "Fizz\n",
      "Buzz\n",
      "41\n",
      "Fizz\n",
      "43\n",
      "44\n",
      "FizzBuzz\n",
      "46\n",
      "47\n",
      "Fizz\n",
      "49\n",
      "Buzz\n",
      "Fizz\n",
      "52\n",
      "53\n",
      "Fizz\n",
      "Buzz\n",
      "56\n",
      "Fizz\n",
      "58\n",
      "59\n",
      "FizzBuzz\n",
      "61\n",
      "62\n",
      "Fizz\n",
      "64\n",
      "Buzz\n",
      "Fizz\n",
      "67\n",
      "68\n",
      "Fizz\n",
      "Buzz\n",
      "71\n",
      "Fizz\n",
      "73\n",
      "74\n",
      "FizzBuzz\n",
      "76\n",
      "77\n",
      "Fizz\n",
      "79\n",
      "Buzz\n",
      "Fizz\n",
      "82\n",
      "83\n",
      "Fizz\n",
      "Buzz\n",
      "86\n",
      "Fizz\n",
      "88\n",
      "89\n",
      "FizzBuzz\n",
      "91\n",
      "92\n",
      "Fizz\n",
      "94\n",
      "Buzz\n",
      "Fizz\n",
      "97\n",
      "98\n",
      "Fizz\n",
      "Buzz\n"
     ]
    }
   ],
   "source": [
    "for number in range(1,101):\n",
    "    if number%3==0 and number%5==0:\n",
    "        print(\"FizzBuzz\")\n",
    "    elif number%5==0:\n",
    "        print(\"Buzz\")\n",
    "    elif number%3==0:\n",
    "        print(\"Fizz\")\n",
    "    else:\n",
    "        print(number)"
   ]
  },
  {
   "cell_type": "code",
   "execution_count": null,
   "metadata": {},
   "outputs": [
    {
     "name": "stdout",
     "output_type": "stream",
     "text": [
      "Welcome to the PyPassword Generator!\n",
      "['e', 'f', 'r', 'a']\n",
      "[')', '+']\n",
      "['2', '0']\n",
      "['e', 'f', 'r', 'a', ')', '+', '2', '0']\n",
      "['e', 'a', '+', 'r', '2', '0', ')', 'f']\n",
      "ea+r20)f\n"
     ]
    }
   ],
   "source": [
    "import random\n",
    "letters = ['a','b','c','d','e','f','g','h','i','j','k','l','m','n','o','p','q','r','s','t','u','v','w','x','y','z']\n",
    "symbols = ['!','#','$','%','^','&','*','(',')','_','+','-'] \n",
    "numbers = ['0','1','2','3','4','5','6','7','8','9']\n",
    "\n",
    "print(\"Welcome to the PyPassword Generator!\")\n",
    "\n",
    "user_letters=input(\"How many letters would you like in your password?\\n\")\n",
    "letter_list=random.choices(letters,weights=[1,1,1,1,1,1,1,1,1,1,1,1,1,1,1,1,1,1,1,1,1,1,1,1,1,1], k=int(user_letters))\n",
    "print(letter_list)\n",
    "\n",
    "user_symbols=input(\"How many symbols would you like in your password?\\n\")\n",
    "symbol_list=random.choices(symbols,weights=[1,1,1,1,1,1,1,1,1,1,1,1], k=int(user_symbols))\n",
    "print(symbol_list)\n",
    "\n",
    "user_numbers=input(\"How many numbers would you like in your password?\\n\")\n",
    "number_list=random.choices(numbers, weights=[1,1,1,1,1,1,1,1,1,1], k=int(user_numbers))\n",
    "print(number_list)\n",
    "\n",
    "final_list=letter_list+symbol_list+number_list\n",
    "print(final_list)\n",
    "\n",
    "random.shuffle(final_list)\n",
    "print(final_list)\n",
    "\n",
    "password=\"\"\n",
    "for char in final_list:\n",
    "    password+=char\n",
    "print(f\"Your password is: {password}\")\n"
   ]
  },
  {
   "cell_type": "code",
   "execution_count": null,
   "metadata": {},
   "outputs": [],
   "source": []
  }
 ],
 "metadata": {
  "kernelspec": {
   "display_name": "100days",
   "language": "python",
   "name": "python3"
  },
  "language_info": {
   "codemirror_mode": {
    "name": "ipython",
    "version": 3
   },
   "file_extension": ".py",
   "mimetype": "text/x-python",
   "name": "python",
   "nbconvert_exporter": "python",
   "pygments_lexer": "ipython3",
   "version": "3.11.5"
  }
 },
 "nbformat": 4,
 "nbformat_minor": 2
}
