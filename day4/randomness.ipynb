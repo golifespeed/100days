{
 "cells": [
  {
   "cell_type": "code",
   "execution_count": 197,
   "metadata": {},
   "outputs": [
    {
     "name": "stdout",
     "output_type": "stream",
     "text": [
      "Tails\n"
     ]
    }
   ],
   "source": [
    "import random\n",
    "# import my_module\n",
    "\n",
    "random_integer = random.randint(1,10)\n",
    "if random_integer<=5:\n",
    "    print(\"Heads\")\n",
    "else:\n",
    "    print(\"Tails\")\n",
    "\n",
    "# print(my_module.my_fav_number)\n",
    "\n",
    "# random_number = random.random()\n",
    "# print(round(10*random_number,2))\n",
    "\n",
    "# random_float = random.uniform(1,10)\n",
    "# print(round(random_float,2))\n"
   ]
  }
 ],
 "metadata": {
  "kernelspec": {
   "display_name": "100days",
   "language": "python",
   "name": "python3"
  },
  "language_info": {
   "codemirror_mode": {
    "name": "ipython",
    "version": 3
   },
   "file_extension": ".py",
   "mimetype": "text/x-python",
   "name": "python",
   "nbconvert_exporter": "python",
   "pygments_lexer": "ipython3",
   "version": "3.11.5"
  }
 },
 "nbformat": 4,
 "nbformat_minor": 2
}
