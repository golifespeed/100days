{
 "cells": [
  {
   "cell_type": "code",
   "execution_count": 25,
   "metadata": {},
   "outputs": [
    {
     "name": "stdout",
     "output_type": "stream",
     "text": [
      "pear\n",
      "pankaj\n",
      "Ritu\n",
      "['apple', 'pankaj', 'banana', 'banana', 'grape', 'kiwi', 'orange', 'pear', 'Ritu']\n",
      "['apple', 'pankaj', 'banana', 'banana', 'grape', 'kiwi', 'orange', 'pear', 'Ritu', 'Rashmi', 'Amit']\n"
     ]
    }
   ],
   "source": [
    "fruits = ['orange', 'apple', 'pear', 'banana', 'kiwi', 'apple', 'banana']\n",
    "fruits.count('apple')\n",
    "fruits.index('banana')\n",
    "fruits.index('banana',4)\n",
    "fruits.reverse()\n",
    "fruits\n",
    "fruits.append('grape')\n",
    "fruits\n",
    "fruits.sort()\n",
    "fruits\n",
    "print(fruits[-1])\n",
    "fruits[1]=('pankaj')\n",
    "print(fruits[1])\n",
    "fruits.append(\"Ritu\")\n",
    "print(fruits[8])\n",
    "fruits\n",
    "print(fruits)\n",
    "fruits.extend(['Rashmi','Amit'])\n",
    "print(fruits)\n"
   ]
  },
  {
   "cell_type": "code",
   "execution_count": 70,
   "metadata": {},
   "outputs": [
    {
     "name": "stdout",
     "output_type": "stream",
     "text": [
      "Charlie\n"
     ]
    }
   ],
   "source": [
    "import random\n",
    "friends=['Alice','Bob','Charlie','David','Emanuel']\n",
    "# random_number = random.randint(0,len(friends)-1)\n",
    "# print(random_number) \n",
    "# print(friends[random_number])\n",
    "# print(len(friends))\n",
    "print(random.choice(friends))"
   ]
  },
  {
   "cell_type": "code",
   "execution_count": 73,
   "metadata": {},
   "outputs": [
    {
     "name": "stdout",
     "output_type": "stream",
     "text": [
      "Potatoes\n"
     ]
    }
   ],
   "source": [
    "fruits=['Apple','Orange','Kiwi','Banana']\n",
    "vegetables=['Spinach','Potatoes','Tomatoes','Brinjal']\n",
    "fruits_vegetables=[fruits,vegetables]\n",
    "print(fruits_vegetables[1][1])"
   ]
  }
 ],
 "metadata": {
  "kernelspec": {
   "display_name": "100days",
   "language": "python",
   "name": "python3"
  },
  "language_info": {
   "codemirror_mode": {
    "name": "ipython",
    "version": 3
   },
   "file_extension": ".py",
   "mimetype": "text/x-python",
   "name": "python",
   "nbconvert_exporter": "python",
   "pygments_lexer": "ipython3",
   "version": "3.11.5"
  }
 },
 "nbformat": 4,
 "nbformat_minor": 2
}
