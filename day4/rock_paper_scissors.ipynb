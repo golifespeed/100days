{
 "cells": [
  {
   "cell_type": "code",
   "execution_count": 60,
   "metadata": {},
   "outputs": [
    {
     "name": "stdout",
     "output_type": "stream",
     "text": [
      "Invalid Entry\n"
     ]
    }
   ],
   "source": [
    "import random\n",
    "rock=\"\"\"\n",
    "    _______\n",
    "---'   ____)\n",
    "      (_____)\n",
    "      (_____)\n",
    "      (____)\n",
    "---.__(___)\n",
    "\"\"\"\n",
    "paper=\"\"\"\n",
    "     _______\n",
    "---'    ____)____\n",
    "           ______)\n",
    "          _______)\n",
    "         _______)\n",
    "---.__________)\n",
    "\"\"\"\n",
    "scissors=\"\"\"\n",
    "    _______\n",
    "---'   ____)____\n",
    "          ______)\n",
    "       __________)\n",
    "      (____)\n",
    "---.__(___)\n",
    "\"\"\"\n",
    "user_option=int(input(\"What do you choose? 0=Rock, 1=Paper, 2=Scissors\"))\n",
    "rps=[rock,paper,scissors]\n",
    "if user_option>=0 and user_option<3:\n",
    "    user_choice=rps[user_option]\n",
    "    print(user_option)\n",
    "    print(user_choice)\n",
    "    comp_choice=random.randint(0,2)\n",
    "    print(\"Computer Chose:\")\n",
    "    print(rps[comp_choice])\n",
    "    if user_option==comp_choice:\n",
    "        print(\"Draw!\")\n",
    "    elif user_option==0 and comp_choice==2:\n",
    "        print(\"You Win!\")\n",
    "    elif user_option==2 and comp_choice==0:\n",
    "        print(\"You Lose!\")\n",
    "    elif user_option < comp_choice:\n",
    "        print(\"You Lose!\")\n",
    "    elif user_option > comp_choice:\n",
    "        print(\"You Win!\")\n",
    "else:\n",
    "    print(\"Invalid Entry\")"
   ]
  }
 ],
 "metadata": {
  "kernelspec": {
   "display_name": "100days",
   "language": "python",
   "name": "python3"
  },
  "language_info": {
   "codemirror_mode": {
    "name": "ipython",
    "version": 3
   },
   "file_extension": ".py",
   "mimetype": "text/x-python",
   "name": "python",
   "nbconvert_exporter": "python",
   "pygments_lexer": "ipython3",
   "version": "3.11.5"
  }
 },
 "nbformat": 4,
 "nbformat_minor": 2
}
