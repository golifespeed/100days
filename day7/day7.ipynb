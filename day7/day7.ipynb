{
 "cells": [
  {
   "cell_type": "code",
   "execution_count": 8,
   "metadata": {},
   "outputs": [
    {
     "name": "stdout",
     "output_type": "stream",
     "text": [
      "elephant\n",
      "________\n",
      "e_e_____\n",
      "e_e_h___\n",
      "e_e_h_n_\n",
      "e_e_h_n_\n",
      "e_e_h_n_\n",
      "e_eph_n_\n",
      "eleph_n_\n",
      "elephan_\n",
      "elephan_\n",
      "elephant\n"
     ]
    }
   ],
   "source": [
    "import random\n",
    "word_list=[\"aardvark\", \"baboon\", \"camel\" ,\"elephant\", \"tiger\", \"giraffe\", \"crocodile\"]\n",
    "chosen_word=random.choice(word_list)\n",
    "\n",
    "print(chosen_word)\n",
    "\n",
    "letter_len = len(chosen_word)\n",
    "\n",
    "placeholder=\"\"\n",
    "for position in range (letter_len):\n",
    "    placeholder+=\"_\"\n",
    "\n",
    "print(placeholder)\n",
    "\n",
    "chosen_word_list=[]\n",
    "int_display=[]\n",
    "\n",
    "for char1 in range(letter_len):\n",
    "    chosen_word_list.append(chosen_word[char1])\n",
    "    int_display.append(\"_\")\n",
    "\n",
    "while \"_\" in int_display:\n",
    "    guess=input(\"Guess a letter: \").lower()\n",
    "    for position in range(letter_len):\n",
    "        if chosen_word_list[position]==guess:\n",
    "            int_display[position]=guess\n",
    "    display=\"\"\n",
    "    for x in int_display:\n",
    "        display+=x\n",
    "    print(display)"
   ]
  }
 ],
 "metadata": {
  "kernelspec": {
   "display_name": "base",
   "language": "python",
   "name": "python3"
  },
  "language_info": {
   "codemirror_mode": {
    "name": "ipython",
    "version": 3
   },
   "file_extension": ".py",
   "mimetype": "text/x-python",
   "name": "python",
   "nbconvert_exporter": "python",
   "pygments_lexer": "ipython3",
   "version": "3.12.3"
  }
 },
 "nbformat": 4,
 "nbformat_minor": 2
}
