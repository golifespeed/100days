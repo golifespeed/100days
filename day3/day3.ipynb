{
 "cells": [
  {
   "cell_type": "code",
   "execution_count": 8,
   "metadata": {},
   "outputs": [
    {
     "name": "stdout",
     "output_type": "stream",
     "text": [
      "Welcome to the rollercoster!\n",
      "You can ride the rollercoster!\n",
      "Ticket price is $12\n",
      "That will be an extra $3\n",
      "Your final bill is $15\n"
     ]
    }
   ],
   "source": [
    "print(\"Welcome to the rollercoster!\")\n",
    "height = int(input(\"What is your height in cm? \"))\n",
    "bill = 0\n",
    "if height >= 120:\n",
    "    print(\"You can ride the rollercoster!\")\n",
    "    age = int(input(\"What is your age? \"))\n",
    "    if age < 12:\n",
    "        print(\"Ticket price is $5\")\n",
    "        bill += 5\n",
    "    elif age <= 18:\n",
    "        print(\"Ticket price is $7\")\n",
    "        bill += 7\n",
    "    else:\n",
    "        print(\"Ticket price is $12\")\n",
    "        bill += 12\n",
    "    wants_photo = input(\"Do you want a photo taken? Y or N \")\n",
    "    if wants_photo == \"Y\":\n",
    "        print(\"That will be an extra $3\")\n",
    "        bill += 3\n",
    "    else:\n",
    "        print(\"No problem, enjoy the ride!\")\n",
    "    print(f\"Your final bill is ${bill}\")\n",
    "else:\n",
    "    print(\"Sorry, you have to grow taller before you can ride.\")"
   ]
  },
  {
   "cell_type": "code",
   "execution_count": 6,
   "metadata": {},
   "outputs": [
    {
     "name": "stdout",
     "output_type": "stream",
     "text": [
      "Please enter a valid number\n"
     ]
    },
    {
     "ename": "TypeError",
     "evalue": "not all arguments converted during string formatting",
     "output_type": "error",
     "traceback": [
      "\u001b[0;31m---------------------------------------------------------------------------\u001b[0m",
      "\u001b[0;31mTypeError\u001b[0m                                 Traceback (most recent call last)",
      "Cell \u001b[0;32mIn[6], line 6\u001b[0m\n\u001b[1;32m      4\u001b[0m \u001b[38;5;28;01mexcept\u001b[39;00m \u001b[38;5;167;01mValueError\u001b[39;00m:\n\u001b[1;32m      5\u001b[0m     \u001b[38;5;28mprint\u001b[39m(\u001b[38;5;124m\"\u001b[39m\u001b[38;5;124mPlease enter a valid number\u001b[39m\u001b[38;5;124m\"\u001b[39m)\n\u001b[0;32m----> 6\u001b[0m num2 \u001b[38;5;241m=\u001b[39m num1 \u001b[38;5;241m%\u001b[39m \u001b[38;5;241m2\u001b[39m\n\u001b[1;32m      7\u001b[0m \u001b[38;5;28;01mif\u001b[39;00m num2 \u001b[38;5;241m==\u001b[39m \u001b[38;5;241m0\u001b[39m:\n\u001b[1;32m      8\u001b[0m     \u001b[38;5;28mprint\u001b[39m(\u001b[38;5;124m\"\u001b[39m\u001b[38;5;124mEven\u001b[39m\u001b[38;5;124m\"\u001b[39m)\n",
      "\u001b[0;31mTypeError\u001b[0m: not all arguments converted during string formatting"
     ]
    }
   ],
   "source": [
    "try:\n",
    "    num1=\"\"\n",
    "    num1 = int(input(\"Enter first number: \"))\n",
    "except ValueError:\n",
    "    print(\"Please enter a valid number\")\n",
    "num2 = num1 % 2\n",
    "if num2 == 0:\n",
    "    print(\"Even\")\n",
    "else:\n",
    "    print(\"Odd\")\n"
   ]
  }
 ],
 "metadata": {
  "kernelspec": {
   "display_name": "100days",
   "language": "python",
   "name": "python3"
  },
  "language_info": {
   "codemirror_mode": {
    "name": "ipython",
    "version": 3
   },
   "file_extension": ".py",
   "mimetype": "text/x-python",
   "name": "python",
   "nbconvert_exporter": "python",
   "pygments_lexer": "ipython3",
   "version": "3.11.5"
  }
 },
 "nbformat": 4,
 "nbformat_minor": 2
}
